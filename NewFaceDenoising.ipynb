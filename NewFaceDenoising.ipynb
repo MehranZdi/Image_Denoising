{
  "nbformat": 4,
  "nbformat_minor": 0,
  "metadata": {
    "colab": {
      "name": "NewFaceDenoising.ipynb",
      "provenance": []
    },
    "kernelspec": {
      "name": "python3",
      "display_name": "Python 3"
    },
    "language_info": {
      "name": "python"
    },
    "accelerator": "GPU"
  },
  "cells": [
    {
      "cell_type": "markdown",
      "source": [
        "### Preparing the data:"
      ],
      "metadata": {
        "id": "9uCdVfGEWShs"
      }
    },
    {
      "cell_type": "code",
      "source": [
        "# !tar -xvf '/content/gdrive/MyDrive/lfw.tgz' -C '/content/gdrive/MyDrive/'"
      ],
      "metadata": {
        "id": "_33QPVeD4nXU"
      },
      "execution_count": 1,
      "outputs": []
    },
    {
      "cell_type": "code",
      "source": [
        "from google.colab import drive\n",
        "drive.mount('/content/drive')"
      ],
      "metadata": {
        "colab": {
          "base_uri": "https://localhost:8080/"
        },
        "id": "NUX8D4ftbdMg",
        "outputId": "5fb1aabc-2615-43ba-9084-49db2ead4ef1"
      },
      "execution_count": 2,
      "outputs": [
        {
          "output_type": "stream",
          "name": "stdout",
          "text": [
            "Drive already mounted at /content/drive; to attempt to forcibly remount, call drive.mount(\"/content/drive\", force_remount=True).\n"
          ]
        }
      ]
    },
    {
      "cell_type": "markdown",
      "source": [
        "### Import Modules:"
      ],
      "metadata": {
        "id": "KMjDzuL1Wc3H"
      }
    },
    {
      "cell_type": "code",
      "source": [
        "import tensorflow as tf\n",
        "from tensorflow import keras\n",
        "import tensorflow.keras.layers as tkl\n",
        "import tensorflow as tf\n",
        "from keras.models import Model\n",
        "from tensorflow.keras.layers import Conv2D, MaxPooling2D, Dense, Input, Conv2D, UpSampling2D, BatchNormalization, Activation, Add, ZeroPadding2D, concatenate\n",
        "from tensorflow.keras.optimizers import Adam\n",
        "from keras.callbacks import EarlyStopping\n",
        "import cv2\n",
        "from sklearn.model_selection import train_test_split\n",
        "from skimage.util import random_noise\n",
        "import matplotlib.pyplot as plt\n",
        "import numpy as np\n",
        "import pandas as pd\n",
        "import os\n",
        "import glob\n",
        "import random\n",
        "from itertools import chain"
      ],
      "metadata": {
        "id": "kjPjYWeJ6Yn3"
      },
      "execution_count": 3,
      "outputs": []
    },
    {
      "cell_type": "markdown",
      "source": [
        "### Creating a list of file names:"
      ],
      "metadata": {
        "id": "8dy3EYqzW2Zq"
      }
    },
    {
      "cell_type": "code",
      "source": [
        "source_path = '/content/drive/MyDrive/HighResolution/'\n",
        "\n",
        "filenames = []\n",
        "folder_names = ['62000', '63000', '64000', '65000', '66000', '67000', '68000', '69000']\n",
        "# test = os.path.join(source_path, f'{folder_names[1]}')\n",
        "# content = os.listdir(test)\n",
        "\n",
        "# print(content)\n",
        "for folder in folder_names:\n",
        "  \n",
        "    filenames.append(glob.glob(os.path.join(source_path, f'{folder}/*.png')))\n",
        "\n",
        "filenames = list(chain.from_iterable(filenames))\n",
        "random.shuffle(filenames)\n",
        "print('Completed.')"
      ],
      "metadata": {
        "id": "k_44mSIO4M1T",
        "colab": {
          "base_uri": "https://localhost:8080/"
        },
        "outputId": "286d9472-613a-478f-fe10-1088644c5292"
      },
      "execution_count": 4,
      "outputs": [
        {
          "output_type": "stream",
          "name": "stdout",
          "text": [
            "Completed.\n"
          ]
        }
      ]
    },
    {
      "cell_type": "code",
      "source": [
        "print(len(filenames))"
      ],
      "metadata": {
        "id": "dMYuKyOM7nWK",
        "colab": {
          "base_uri": "https://localhost:8080/"
        },
        "outputId": "064c98e6-02c0-419d-e38c-4aa0a2cb4ce5"
      },
      "execution_count": 5,
      "outputs": [
        {
          "output_type": "stream",
          "name": "stdout",
          "text": [
            "8000\n"
          ]
        }
      ]
    },
    {
      "cell_type": "markdown",
      "source": [
        "### Showing a sample:"
      ],
      "metadata": {
        "id": "Iu9V5vtrYZcZ"
      }
    },
    {
      "cell_type": "code",
      "source": [
        "img_path = filenames[1000]\n",
        "print(img_path)\n",
        "img = cv2.imread(img_path)\n",
        "img = cv2.cvtColor(img, cv2.COLOR_BGR2RGB)\n",
        "noisy = random_noise(img, mode = 's&p', amount=0.2)\n",
        "fig, ax = plt.subplots(1, 2)\n",
        "ax[0].imshow(img)\n",
        "ax[0].set_title('Original')\n",
        "ax[1].imshow(noisy)\n",
        "ax[1].set_title('Noisy')\n",
        "# plt.imshow(noisy)"
      ],
      "metadata": {
        "id": "d749qvE37qdq",
        "colab": {
          "base_uri": "https://localhost:8080/",
          "height": 253
        },
        "outputId": "c26a9d8c-cc79-4c10-cd33-6b16b5b639d8"
      },
      "execution_count": 6,
      "outputs": [
        {
          "output_type": "stream",
          "name": "stdout",
          "text": [
            "/content/drive/MyDrive/HighResolution/67000/67136.png\n"
          ]
        },
        {
          "output_type": "execute_result",
          "data": {
            "text/plain": [
              "Text(0.5, 1.0, 'Noisy')"
            ]
          },
          "metadata": {},
          "execution_count": 6
        },
        {
          "output_type": "display_data",
          "data": {
            "image/png": "[encoded data removed]",
            "text/plain": [
              "<Figure size 432x288 with 2 Axes>"
            ]
          },
          "metadata": {
            "needs_background": "light"
          }
        }
      ]
    },
    {
      "cell_type": "markdown",
      "source": [
        "### Creating train set and test set:"
      ],
      "metadata": {
        "id": "pf3ZkAB3Yf4Z"
      }
    },
    {
      "cell_type": "code",
      "source": [
        "test_filenames = filenames[-3001:-1]\n",
        "del filenames[-3001:-1]\n",
        "train_filenames = filenames\n",
        "print(f'Size of training set is: {len(train_filenames)}', end='\\n----------------------------\\n')\n",
        "print(f'Size of test set is: {len(test_filenames)}', end='\\n----------------------------\\n')"
      ],
      "metadata": {
        "colab": {
          "base_uri": "https://localhost:8080/"
        },
        "id": "SMel-KI_7yNT",
        "outputId": "59096c12-52d6-4552-f9f5-efab0050dc5d"
      },
      "execution_count": 7,
      "outputs": [
        {
          "output_type": "stream",
          "name": "stdout",
          "text": [
            "Size of training set is: 5000\n",
            "----------------------------\n",
            "Size of test set is: 3000\n",
            "----------------------------\n"
          ]
        }
      ]
    },
    {
      "cell_type": "markdown",
      "source": [
        "### Train set and validation set:"
      ],
      "metadata": {
        "id": "bM3BI2WqYriz"
      }
    },
    {
      "cell_type": "code",
      "source": [
        "train_img, val_img, _, _ = train_test_split(train_filenames, train_filenames, test_size = 0.2, shuffle = True, random_state = 0)"
      ],
      "metadata": {
        "id": "UUW0YzvI72Nj"
      },
      "execution_count": 8,
      "outputs": []
    },
    {
      "cell_type": "code",
      "source": [
        "print(f'Size of training set is: {len(train_img)}', end='\\n----------------------------\\n')\n",
        "print(f'Size of validation set is: {len(val_img)}', end='\\n----------------------------\\n')\n",
        "print(f'Total: {len(train_img) + len(val_img)}')"
      ],
      "metadata": {
        "colab": {
          "base_uri": "https://localhost:8080/"
        },
        "id": "byIHm9QQ74DY",
        "outputId": "800813fa-65cb-4f92-d19e-0011d52a3c77"
      },
      "execution_count": 9,
      "outputs": [
        {
          "output_type": "stream",
          "name": "stdout",
          "text": [
            "Size of training set is: 4000\n",
            "----------------------------\n",
            "Size of validation set is: 1000\n",
            "----------------------------\n",
            "Total: 5000\n"
          ]
        }
      ]
    },
    {
      "cell_type": "markdown",
      "source": [
        "### Determining important variables:"
      ],
      "metadata": {
        "id": "n8QdHv0dY5pn"
      }
    },
    {
      "cell_type": "code",
      "source": [
        "WIDTH = 512\n",
        "HEIGHT = 512\n",
        "n_channels = 3\n",
        "BATCH_SIZE = 32"
      ],
      "metadata": {
        "id": "DuVXtsjB75OD"
      },
      "execution_count": 10,
      "outputs": []
    },
    {
      "cell_type": "markdown",
      "source": [
        "### Data generation:"
      ],
      "metadata": {
        "id": "J6zOsgu3ZXkB"
      }
    },
    {
      "cell_type": "code",
      "source": [
        "class  DataGenerator(tf.keras.utils.Sequence):\n",
        "    \n",
        "    def __init__(self, orig_filenames, batch_size = BATCH_SIZE, shuffle = True):\n",
        "        self.orig_filenames = orig_filenames\n",
        "        self.noisy_filenames = orig_filenames\n",
        "        self.filenames = list(zip(self.orig_filenames, self.noisy_filenames))\n",
        "        self.batch_size = BATCH_SIZE\n",
        "        self.shuffle = shuffle\n",
        "    \n",
        "    def __len__(self):\n",
        "        return (len(self.orig_filenames) // self.batch_size)\n",
        "    \n",
        "    def __getitem__(self, idx):\n",
        "        batch = self.filenames[idx * self.batch_size : (idx + 1) * self.batch_size]\n",
        "        X, Y = self.__data_generation(batch)\n",
        "\n",
        "        return X, Y\n",
        "    \n",
        "    def on_epoch_end(self):\n",
        "        self.indexes = np.arange(len(self.orig_filenames))\n",
        "        if self.shuffle == True:\n",
        "            np.random.shuffle(self.indexes)\n",
        "            \n",
        "    def __data_generation(self, batch):\n",
        "        orig = []\n",
        "        noisy = []\n",
        "        \n",
        "        for orig_file, _ in batch:\n",
        "          image = cv2.imread(orig_file) / 255\n",
        "          image = cv2.resize(image, (WIDTH, HEIGHT))\n",
        "#           image = tf.image.convert_image_dtype(image, tf.float32)\n",
        "          orig.append(image)\n",
        "          noisy.append(self.make_noisy(image))\n",
        "          \n",
        "        return  np.array(noisy), np.array(orig)\n",
        "\n",
        "    def make_noisy(self, image):\n",
        "      image_ = image\n",
        "      noisy_image = random_noise(image_, mode = 's&p', amount = 0.2)\n",
        "      \n",
        "      return noisy_image"
      ],
      "metadata": {
        "id": "BimuUQKa77U0"
      },
      "execution_count": 11,
      "outputs": []
    },
    {
      "cell_type": "markdown",
      "source": [
        "### Generating training set and validation set:"
      ],
      "metadata": {
        "id": "L4bWh1XJZxVY"
      }
    },
    {
      "cell_type": "code",
      "source": [
        "train_generator = DataGenerator(train_img, BATCH_SIZE)\n",
        "val_generator = DataGenerator(val_img, BATCH_SIZE)"
      ],
      "metadata": {
        "id": "3jIFH1-n78vr"
      },
      "execution_count": 12,
      "outputs": []
    },
    {
      "cell_type": "markdown",
      "source": [
        "### Creating the model architecture (U-net):"
      ],
      "metadata": {
        "id": "ffblE2ExaQJ_"
      }
    },
    {
      "cell_type": "code",
      "source": [
        "import tensorflow.keras.layers as tkl\n",
        "def conv_block(inputs = None, n_filters = 32, kernel_size = 3, batch_norm = False):\n",
        "    \n",
        "    '''First layer'''\n",
        "    \n",
        "    conv = tkl.Conv2D(filters = n_filters,\n",
        "                      kernel_size = kernel_size,\n",
        "                      padding = 'same',\n",
        "                      kernel_initializer = 'he_normal')(inputs)\n",
        "    \n",
        "    if batch_norm:\n",
        "        conv = tkl.BatchNormalization()(conv)\n",
        "    \n",
        "    conv = tkl.Activation('relu')(conv)\n",
        "    \n",
        "    '''Second layer'''\n",
        "    \n",
        "    conv = tkl.Conv2D(filters = n_filters,\n",
        "                     kernel_size = kernel_size,\n",
        "                     padding = 'same',\n",
        "                     kernel_initializer = 'he_normal')(conv)\n",
        "    \n",
        "    if batch_norm:\n",
        "        conv = tkl.BatchNormalization()(conv)\n",
        "    \n",
        "    conv = tkl.Activation('relu')(conv)\n",
        "        \n",
        "    return conv\n",
        "\n",
        "\n",
        "def conv_transpose_block(n_filters, kernel_size = 3):\n",
        "    conv_transpose = tkl.Conv2DTranspose(n_filters, kernel_size = kernel_size, strides = (2,2), padding = 'same')\n",
        "    \n",
        "    return conv_transpose\n",
        "    \n",
        "\n",
        "def unet(n_filters = 32, dropout_prob = 0.1, batch_norm = True):\n",
        "    input_size = (WIDTH, HEIGHT, n_channels)\n",
        "    \n",
        "    input_img = tf.keras.Input(input_size, name = 'image' )\n",
        "    \n",
        "    c1 = conv_block(input_img, n_filters / 2, kernel_size = 3)\n",
        "    print('c1:', c1)\n",
        "    p1 = tkl.MaxPooling2D((2,2))(c1)\n",
        "    print('p1:', p1)\n",
        "    p1 = tkl.Dropout(dropout_prob)(p1)\n",
        "    \n",
        "    c2 = conv_block(p1, n_filters, kernel_size = 3)\n",
        "    print('c2:', c2)\n",
        "    p2 = tkl.MaxPooling2D((2,2))(c2)\n",
        "    print('p2:', p2)\n",
        "    p2 = tkl.Dropout(dropout_prob)(p2)\n",
        "    \n",
        "    c3 = conv_block(p2, n_filters * 2, kernel_size = 3)\n",
        "    print('c3:', c3)\n",
        "    p3 = tkl.MaxPooling2D((2,2))(c3)\n",
        "    print('p3:', p3)\n",
        "    p3 = tkl.Dropout(dropout_prob)(p3)\n",
        "    \n",
        "    c4 = conv_block(p3, n_filters * 4, kernel_size = 3)\n",
        "    print('c4:', c4)\n",
        "    p4 = tkl.MaxPooling2D((2,2))(c4)\n",
        "    print('p4:', p4)\n",
        "    p4 = tkl.Dropout(dropout_prob)(p4)\n",
        "    \n",
        "    c5 = conv_block(p4, n_filters * 8 , kernel_size = 3)\n",
        "    print('c5:', c5)\n",
        "    p5 = tkl.MaxPooling2D((2,2))(c5)\n",
        "    print('p5:', p5)\n",
        "    p5 = tkl.Dropout(dropout_prob)(p5)\n",
        "\n",
        "    c6 = conv_block(p5, n_filters * 16 , kernel_size = 3)\n",
        "    print('c6:', c6)\n",
        "\n",
        "    u6 = conv_transpose_block(n_filters * 8, kernel_size = 3)(c6)  #----> 32, 256\n",
        "    print('u6:', u6)\n",
        "    u6 = tkl.concatenate([u6, c5])     #----> 32, 256\n",
        "    u6 = tkl.Dropout(dropout_prob)(u6)\n",
        "    c7 = conv_block(u6, n_filters * 8, kernel_size = 3)   #----> 32, 256\n",
        "    print('c7:', c7)\n",
        "    \n",
        "    u7 = conv_transpose_block(n_filters * 4)(c7)   #----> 64, 128\n",
        "    print('u7:', u7)\n",
        "    u7 = tkl.concatenate([u7, c4])   #----> 64, 128\n",
        "    u7 = tkl.Dropout(dropout_prob)(u7)\n",
        "    c8 = conv_block(u7, n_filters * 4, kernel_size = 3)   #----> 64, 128\n",
        "    print('c8:', c8)\n",
        "    \n",
        "    u8 = conv_transpose_block(n_filters * 2, kernel_size = 3)(c8)   #----> 128, 64\n",
        "    print('u8:', u8)\n",
        "    u8 = tkl.concatenate([u8, c3])   #----> 128, 64\n",
        "    u8 = tkl.Dropout(dropout_prob)(u8)\n",
        "    c9 = conv_block(u8, n_filters * 2, kernel_size = 3)   #----> 128, 64\n",
        "    print('c9:', c9)\n",
        "    \n",
        "    u9 = conv_transpose_block(n_filters, kernel_size = 3)(c9)   #----> 256, 32\n",
        "    print('u9:', u9)\n",
        "    u9 = tkl.concatenate([u9, c2])   #----> 256, 32\n",
        "    u9 = tkl.Dropout(dropout_prob)(u9)\n",
        "    c10 = conv_block(u9, n_filters , kernel_size = 3)   #----> 256, 32\n",
        "    print('c10:', c10)\n",
        "\n",
        "    u10 = conv_transpose_block(16, kernel_size=(3,3))(c10) #512, 16\n",
        "    print('u10:', u10)\n",
        "    u10 = tkl.concatenate([u10, c1])\n",
        "    print('u10:', u10)\n",
        "    u10 = tkl.Dropout(dropout_prob)(u10)\n",
        "\n",
        "    c11 = conv_block(u10, n_filters / 2, (3,3))\n",
        "    print('c11:', c11)\n",
        "\n",
        "    output = tkl.Conv2D(3, (1,1), padding='same', activation='sigmoid')(c11)\n",
        "    print(f'output shape is: {output}')\n",
        "  \n",
        "\n",
        "    return tf.keras.Model(inputs = [input_img], outputs = [output])"
      ],
      "metadata": {
        "id": "YTjTDv9s7--U"
      },
      "execution_count": 13,
      "outputs": []
    },
    {
      "cell_type": "code",
      "source": [
        "# def upsample(x, scale, num_filters):\n",
        "#     def upsample_1(x, factor, **kwargs):\n",
        "#         \"\"\"Sub-pixel convolution.\"\"\"\n",
        "#         x = Conv2D(num_filters * (factor ** 2), 3, padding='same', **kwargs)(x)\n",
        "#         return (pixel_shuffle(scale=factor))(x)\n",
        "\n",
        "#     if scale == 2:\n",
        "#         x = upsample_1(x, 2)\n",
        "#     elif scale == 3:\n",
        "#         x = upsample_1(x, 3)\n",
        "#     elif scale == 4:\n",
        "#         x = upsample_1(x, 4)\n",
        "\n",
        "#     return x\n",
        "\n",
        "\n",
        "# def pixel_shuffle(scale):\n",
        "#     return lambda x: tf.nn.depth_to_space(x, scale)\n",
        "\n",
        "\n",
        "#     ups1 = upsample(conv, 2, 256)\n",
        "#     print('ups1:', ups1)\n",
        "#     stack1 = concatenate([skip4, ups1])\n",
        "#     # print(f'stack1: {stack1}')\n",
        "#     # enc = tkl.Dropout(0.2)(stack1)\n",
        "#     # enc = BatchNormalization()(conv)\n",
        "#     enc = Conv2D(128, (3,3), padding='same')(stack1)\n",
        "#     enc = Activation('relu')(enc)\n",
        "#     # enc = tkl.Dropout(0.2)(enc)\n",
        "#     enc = Conv2D(128, (3,3), padding='same')(enc)\n",
        "#     enc = Activation('relu')(enc)\n",
        "#     print(f'enc0: {enc}')\n",
        "\n",
        "# # enc = Activation('relu')(enc)\n",
        "\n",
        "# #2\n",
        "\n",
        "#     ups2 = upsample(enc, 2, 64)\n",
        "#     print('ups2:', ups2)\n",
        "#     stack2 = concatenate([skip3, ups2])\n",
        "#     # conv = tkl.Dropout(0.2)(ups2)\n",
        "#     # enc = BatchNormalization()(conv)\n",
        "#     enc = Conv2D(64, (3,3), padding='same')(stack2)\n",
        "#     enc = Activation('relu')(enc)\n",
        "#     enc = Conv2D(64, (3,3), padding='same')(enc)\n",
        "#     # enc = Activation('relu')(enc)\n",
        "#     enc = Activation('relu')(enc)\n",
        "#     print('enc1:', enc)\n",
        "#     #3\n",
        "\n",
        "#     ups3 = upsample(enc, 2, 32)\n",
        "#     print('ups3:', ups3)\n",
        "#     stack3 = concatenate([skip2, ups3])\n",
        "#     # enc = tkl.Dropout(0.2)(ups3)\n",
        "#     # enc = BatchNormalization()(conv)\n",
        "#     enc = Conv2D(32, (3,3), padding='same')(stack3)\n",
        "#     enc = Activation('relu')(enc)\n",
        "#     enc = Conv2D(32, (3,3), padding='same')(enc)\n",
        "#     # enc = Activation('relu')(enc)\n",
        "#     enc = Activation('relu')(enc)\n",
        "#     print('enc2:', enc)\n",
        "#     #4\n",
        "\n",
        "#     ups4 = upsample(enc, 2, 16)\n",
        "#     print('ups4:', ups4)\n",
        "#     stack4 = concatenate([skip1, ups4])\n",
        "#     # enc = BatchNormalization()(conv)\n",
        "#     # enc = tkl.Dropout(0.2)(stack4)\n",
        "#     enc = Conv2D(32, (3,3), padding='same')(stack4)\n",
        "#     enc = Activation('relu')(enc)\n",
        "#     # enc = tkl.Dropout(0.2)(enc)\n",
        "#     enc = Conv2D(16, (3,3), padding='same')(enc)\n",
        "\n",
        "#     # enc = Activation('relu')(enc)\n",
        "#     # enc = Activation('relu')(enc)\n",
        "#     print('enc3:', enc)\n",
        "#     #5\n",
        "\n",
        "#     ups5 = upsample(enc, 2, 16)\n",
        "#     stack5 = concatenate([skip0, ups5])\n",
        "#     # enc = tkl.Dropout(0.2)(stack5)\n",
        "#     enc = Conv2D(3, (3,3), padding='same')(stack5)\n",
        "#     enc = Activation('relu')(enc)\n",
        "#     # enc = tkl.Dropout(0.2)(conv)\n",
        "#     enc = Conv2D(3, (3,3), padding='same')(enc)\n",
        "#     print('enc4:', enc)\n",
        "#     enc = Activation('relu')(enc)\n",
        "#     ups6 = upsample(enc, 2, 3)\n",
        "#     print('ups6:', ups6)\n",
        "#     output = Conv2D(3, (1,1), activation='sigmoid')(ups6)\n"
      ],
      "metadata": {
        "id": "9BiVe4X51odW"
      },
      "execution_count": 14,
      "outputs": []
    },
    {
      "cell_type": "code",
      "source": [
        "model = unet()\n",
        "model.summary()"
      ],
      "metadata": {
        "id": "ynPoqxvz8TnF",
        "colab": {
          "base_uri": "https://localhost:8080/"
        },
        "outputId": "93f92de5-29c3-48f1-ada9-8180a3813e83"
      },
      "execution_count": 15,
      "outputs": [
        {
          "output_type": "stream",
          "name": "stdout",
          "text": [
            "c1: KerasTensor(type_spec=TensorSpec(shape=(None, 512, 512, 16), dtype=tf.float32, name=None), name='activation_1/Relu:0', description=\"created by layer 'activation_1'\")\n",
            "p1: KerasTensor(type_spec=TensorSpec(shape=(None, 256, 256, 16), dtype=tf.float32, name=None), name='max_pooling2d/MaxPool:0', description=\"created by layer 'max_pooling2d'\")\n",
            "c2: KerasTensor(type_spec=TensorSpec(shape=(None, 256, 256, 32), dtype=tf.float32, name=None), name='activation_3/Relu:0', description=\"created by layer 'activation_3'\")\n",
            "p2: KerasTensor(type_spec=TensorSpec(shape=(None, 128, 128, 32), dtype=tf.float32, name=None), name='max_pooling2d_1/MaxPool:0', description=\"created by layer 'max_pooling2d_1'\")\n",
            "c3: KerasTensor(type_spec=TensorSpec(shape=(None, 128, 128, 64), dtype=tf.float32, name=None), name='activation_5/Relu:0', description=\"created by layer 'activation_5'\")\n",
            "p3: KerasTensor(type_spec=TensorSpec(shape=(None, 64, 64, 64), dtype=tf.float32, name=None), name='max_pooling2d_2/MaxPool:0', description=\"created by layer 'max_pooling2d_2'\")\n",
            "c4: KerasTensor(type_spec=TensorSpec(shape=(None, 64, 64, 128), dtype=tf.float32, name=None), name='activation_7/Relu:0', description=\"created by layer 'activation_7'\")\n",
            "p4: KerasTensor(type_spec=TensorSpec(shape=(None, 32, 32, 128), dtype=tf.float32, name=None), name='max_pooling2d_3/MaxPool:0', description=\"created by layer 'max_pooling2d_3'\")\n",
            "c5: KerasTensor(type_spec=TensorSpec(shape=(None, 32, 32, 256), dtype=tf.float32, name=None), name='activation_9/Relu:0', description=\"created by layer 'activation_9'\")\n",
            "p5: KerasTensor(type_spec=TensorSpec(shape=(None, 16, 16, 256), dtype=tf.float32, name=None), name='max_pooling2d_4/MaxPool:0', description=\"created by layer 'max_pooling2d_4'\")\n",
            "c6: KerasTensor(type_spec=TensorSpec(shape=(None, 16, 16, 512), dtype=tf.float32, name=None), name='activation_11/Relu:0', description=\"created by layer 'activation_11'\")\n",
            "u6: KerasTensor(type_spec=TensorSpec(shape=(None, 32, 32, 256), dtype=tf.float32, name=None), name='conv2d_transpose/BiasAdd:0', description=\"created by layer 'conv2d_transpose'\")\n",
            "c7: KerasTensor(type_spec=TensorSpec(shape=(None, 32, 32, 256), dtype=tf.float32, name=None), name='activation_13/Relu:0', description=\"created by layer 'activation_13'\")\n",
            "u7: KerasTensor(type_spec=TensorSpec(shape=(None, 64, 64, 128), dtype=tf.float32, name=None), name='conv2d_transpose_1/BiasAdd:0', description=\"created by layer 'conv2d_transpose_1'\")\n",
            "c8: KerasTensor(type_spec=TensorSpec(shape=(None, 64, 64, 128), dtype=tf.float32, name=None), name='activation_15/Relu:0', description=\"created by layer 'activation_15'\")\n",
            "u8: KerasTensor(type_spec=TensorSpec(shape=(None, 128, 128, 64), dtype=tf.float32, name=None), name='conv2d_transpose_2/BiasAdd:0', description=\"created by layer 'conv2d_transpose_2'\")\n",
            "c9: KerasTensor(type_spec=TensorSpec(shape=(None, 128, 128, 64), dtype=tf.float32, name=None), name='activation_17/Relu:0', description=\"created by layer 'activation_17'\")\n",
            "u9: KerasTensor(type_spec=TensorSpec(shape=(None, 256, 256, 32), dtype=tf.float32, name=None), name='conv2d_transpose_3/BiasAdd:0', description=\"created by layer 'conv2d_transpose_3'\")\n",
            "c10: KerasTensor(type_spec=TensorSpec(shape=(None, 256, 256, 32), dtype=tf.float32, name=None), name='activation_19/Relu:0', description=\"created by layer 'activation_19'\")\n",
            "u10: KerasTensor(type_spec=TensorSpec(shape=(None, 512, 512, 16), dtype=tf.float32, name=None), name='conv2d_transpose_4/BiasAdd:0', description=\"created by layer 'conv2d_transpose_4'\")\n",
            "u10: KerasTensor(type_spec=TensorSpec(shape=(None, 512, 512, 32), dtype=tf.float32, name=None), name='concatenate_4/concat:0', description=\"created by layer 'concatenate_4'\")\n",
            "c11: KerasTensor(type_spec=TensorSpec(shape=(None, 512, 512, 16), dtype=tf.float32, name=None), name='activation_21/Relu:0', description=\"created by layer 'activation_21'\")\n",
            "output shape is: KerasTensor(type_spec=TensorSpec(shape=(None, 512, 512, 3), dtype=tf.float32, name=None), name='conv2d_22/Sigmoid:0', description=\"created by layer 'conv2d_22'\")\n",
            "Model: \"model\"\n",
            "__________________________________________________________________________________________________\n",
            " Layer (type)                   Output Shape         Param #     Connected to                     \n",
            "==================================================================================================\n",
            " image (InputLayer)             [(None, 512, 512, 3  0           []                               \n",
            "                                )]                                                                \n",
            "                                                                                                  \n",
            " conv2d (Conv2D)                (None, 512, 512, 16  448         ['image[0][0]']                  \n",
            "                                )                                                                 \n",
            "                                                                                                  \n",
            " activation (Activation)        (None, 512, 512, 16  0           ['conv2d[0][0]']                 \n",
            "                                )                                                                 \n",
            "                                                                                                  \n",
            " conv2d_1 (Conv2D)              (None, 512, 512, 16  2320        ['activation[0][0]']             \n",
            "                                )                                                                 \n",
            "                                                                                                  \n",
            " activation_1 (Activation)      (None, 512, 512, 16  0           ['conv2d_1[0][0]']               \n",
            "                                )                                                                 \n",
            "                                                                                                  \n",
            " max_pooling2d (MaxPooling2D)   (None, 256, 256, 16  0           ['activation_1[0][0]']           \n",
            "                                )                                                                 \n",
            "                                                                                                  \n",
            " dropout (Dropout)              (None, 256, 256, 16  0           ['max_pooling2d[0][0]']          \n",
            "                                )                                                                 \n",
            "                                                                                                  \n",
            " conv2d_2 (Conv2D)              (None, 256, 256, 32  4640        ['dropout[0][0]']                \n",
            "                                )                                                                 \n",
            "                                                                                                  \n",
            " activation_2 (Activation)      (None, 256, 256, 32  0           ['conv2d_2[0][0]']               \n",
            "                                )                                                                 \n",
            "                                                                                                  \n",
            " conv2d_3 (Conv2D)              (None, 256, 256, 32  9248        ['activation_2[0][0]']           \n",
            "                                )                                                                 \n",
            "                                                                                                  \n",
            " activation_3 (Activation)      (None, 256, 256, 32  0           ['conv2d_3[0][0]']               \n",
            "                                )                                                                 \n",
            "                                                                                                  \n",
            " max_pooling2d_1 (MaxPooling2D)  (None, 128, 128, 32  0          ['activation_3[0][0]']           \n",
            "                                )                                                                 \n",
            "                                                                                                  \n",
            " dropout_1 (Dropout)            (None, 128, 128, 32  0           ['max_pooling2d_1[0][0]']        \n",
            "                                )                                                                 \n",
            "                                                                                                  \n",
            " conv2d_4 (Conv2D)              (None, 128, 128, 64  18496       ['dropout_1[0][0]']              \n",
            "                                )                                                                 \n",
            "                                                                                                  \n",
            " activation_4 (Activation)      (None, 128, 128, 64  0           ['conv2d_4[0][0]']               \n",
            "                                )                                                                 \n",
            "                                                                                                  \n",
            " conv2d_5 (Conv2D)              (None, 128, 128, 64  36928       ['activation_4[0][0]']           \n",
            "                                )                                                                 \n",
            "                                                                                                  \n",
            " activation_5 (Activation)      (None, 128, 128, 64  0           ['conv2d_5[0][0]']               \n",
            "                                )                                                                 \n",
            "                                                                                                  \n",
            " max_pooling2d_2 (MaxPooling2D)  (None, 64, 64, 64)  0           ['activation_5[0][0]']           \n",
            "                                                                                                  \n",
            " dropout_2 (Dropout)            (None, 64, 64, 64)   0           ['max_pooling2d_2[0][0]']        \n",
            "                                                                                                  \n",
            " conv2d_6 (Conv2D)              (None, 64, 64, 128)  73856       ['dropout_2[0][0]']              \n",
            "                                                                                                  \n",
            " activation_6 (Activation)      (None, 64, 64, 128)  0           ['conv2d_6[0][0]']               \n",
            "                                                                                                  \n",
            " conv2d_7 (Conv2D)              (None, 64, 64, 128)  147584      ['activation_6[0][0]']           \n",
            "                                                                                                  \n",
            " activation_7 (Activation)      (None, 64, 64, 128)  0           ['conv2d_7[0][0]']               \n",
            "                                                                                                  \n",
            " max_pooling2d_3 (MaxPooling2D)  (None, 32, 32, 128)  0          ['activation_7[0][0]']           \n",
            "                                                                                                  \n",
            " dropout_3 (Dropout)            (None, 32, 32, 128)  0           ['max_pooling2d_3[0][0]']        \n",
            "                                                                                                  \n",
            " conv2d_8 (Conv2D)              (None, 32, 32, 256)  295168      ['dropout_3[0][0]']              \n",
            "                                                                                                  \n",
            " activation_8 (Activation)      (None, 32, 32, 256)  0           ['conv2d_8[0][0]']               \n",
            "                                                                                                  \n",
            " conv2d_9 (Conv2D)              (None, 32, 32, 256)  590080      ['activation_8[0][0]']           \n",
            "                                                                                                  \n",
            " activation_9 (Activation)      (None, 32, 32, 256)  0           ['conv2d_9[0][0]']               \n",
            "                                                                                                  \n",
            " max_pooling2d_4 (MaxPooling2D)  (None, 16, 16, 256)  0          ['activation_9[0][0]']           \n",
            "                                                                                                  \n",
            " dropout_4 (Dropout)            (None, 16, 16, 256)  0           ['max_pooling2d_4[0][0]']        \n",
            "                                                                                                  \n",
            " conv2d_10 (Conv2D)             (None, 16, 16, 512)  1180160     ['dropout_4[0][0]']              \n",
            "                                                                                                  \n",
            " activation_10 (Activation)     (None, 16, 16, 512)  0           ['conv2d_10[0][0]']              \n",
            "                                                                                                  \n",
            " conv2d_11 (Conv2D)             (None, 16, 16, 512)  2359808     ['activation_10[0][0]']          \n",
            "                                                                                                  \n",
            " activation_11 (Activation)     (None, 16, 16, 512)  0           ['conv2d_11[0][0]']              \n",
            "                                                                                                  \n",
            " conv2d_transpose (Conv2DTransp  (None, 32, 32, 256)  1179904    ['activation_11[0][0]']          \n",
            " ose)                                                                                             \n",
            "                                                                                                  \n",
            " concatenate (Concatenate)      (None, 32, 32, 512)  0           ['conv2d_transpose[0][0]',       \n",
            "                                                                  'activation_9[0][0]']           \n",
            "                                                                                                  \n",
            " dropout_5 (Dropout)            (None, 32, 32, 512)  0           ['concatenate[0][0]']            \n",
            "                                                                                                  \n",
            " conv2d_12 (Conv2D)             (None, 32, 32, 256)  1179904     ['dropout_5[0][0]']              \n",
            "                                                                                                  \n",
            " activation_12 (Activation)     (None, 32, 32, 256)  0           ['conv2d_12[0][0]']              \n",
            "                                                                                                  \n",
            " conv2d_13 (Conv2D)             (None, 32, 32, 256)  590080      ['activation_12[0][0]']          \n",
            "                                                                                                  \n",
            " activation_13 (Activation)     (None, 32, 32, 256)  0           ['conv2d_13[0][0]']              \n",
            "                                                                                                  \n",
            " conv2d_transpose_1 (Conv2DTran  (None, 64, 64, 128)  295040     ['activation_13[0][0]']          \n",
            " spose)                                                                                           \n",
            "                                                                                                  \n",
            " concatenate_1 (Concatenate)    (None, 64, 64, 256)  0           ['conv2d_transpose_1[0][0]',     \n",
            "                                                                  'activation_7[0][0]']           \n",
            "                                                                                                  \n",
            " dropout_6 (Dropout)            (None, 64, 64, 256)  0           ['concatenate_1[0][0]']          \n",
            "                                                                                                  \n",
            " conv2d_14 (Conv2D)             (None, 64, 64, 128)  295040      ['dropout_6[0][0]']              \n",
            "                                                                                                  \n",
            " activation_14 (Activation)     (None, 64, 64, 128)  0           ['conv2d_14[0][0]']              \n",
            "                                                                                                  \n",
            " conv2d_15 (Conv2D)             (None, 64, 64, 128)  147584      ['activation_14[0][0]']          \n",
            "                                                                                                  \n",
            " activation_15 (Activation)     (None, 64, 64, 128)  0           ['conv2d_15[0][0]']              \n",
            "                                                                                                  \n",
            " conv2d_transpose_2 (Conv2DTran  (None, 128, 128, 64  73792      ['activation_15[0][0]']          \n",
            " spose)                         )                                                                 \n",
            "                                                                                                  \n",
            " concatenate_2 (Concatenate)    (None, 128, 128, 12  0           ['conv2d_transpose_2[0][0]',     \n",
            "                                8)                                'activation_5[0][0]']           \n",
            "                                                                                                  \n",
            " dropout_7 (Dropout)            (None, 128, 128, 12  0           ['concatenate_2[0][0]']          \n",
            "                                8)                                                                \n",
            "                                                                                                  \n",
            " conv2d_16 (Conv2D)             (None, 128, 128, 64  73792       ['dropout_7[0][0]']              \n",
            "                                )                                                                 \n",
            "                                                                                                  \n",
            " activation_16 (Activation)     (None, 128, 128, 64  0           ['conv2d_16[0][0]']              \n",
            "                                )                                                                 \n",
            "                                                                                                  \n",
            " conv2d_17 (Conv2D)             (None, 128, 128, 64  36928       ['activation_16[0][0]']          \n",
            "                                )                                                                 \n",
            "                                                                                                  \n",
            " activation_17 (Activation)     (None, 128, 128, 64  0           ['conv2d_17[0][0]']              \n",
            "                                )                                                                 \n",
            "                                                                                                  \n",
            " conv2d_transpose_3 (Conv2DTran  (None, 256, 256, 32  18464      ['activation_17[0][0]']          \n",
            " spose)                         )                                                                 \n",
            "                                                                                                  \n",
            " concatenate_3 (Concatenate)    (None, 256, 256, 64  0           ['conv2d_transpose_3[0][0]',     \n",
            "                                )                                 'activation_3[0][0]']           \n",
            "                                                                                                  \n",
            " dropout_8 (Dropout)            (None, 256, 256, 64  0           ['concatenate_3[0][0]']          \n",
            "                                )                                                                 \n",
            "                                                                                                  \n",
            " conv2d_18 (Conv2D)             (None, 256, 256, 32  18464       ['dropout_8[0][0]']              \n",
            "                                )                                                                 \n",
            "                                                                                                  \n",
            " activation_18 (Activation)     (None, 256, 256, 32  0           ['conv2d_18[0][0]']              \n",
            "                                )                                                                 \n",
            "                                                                                                  \n",
            " conv2d_19 (Conv2D)             (None, 256, 256, 32  9248        ['activation_18[0][0]']          \n",
            "                                )                                                                 \n",
            "                                                                                                  \n",
            " activation_19 (Activation)     (None, 256, 256, 32  0           ['conv2d_19[0][0]']              \n",
            "                                )                                                                 \n",
            "                                                                                                  \n",
            " conv2d_transpose_4 (Conv2DTran  (None, 512, 512, 16  4624       ['activation_19[0][0]']          \n",
            " spose)                         )                                                                 \n",
            "                                                                                                  \n",
            " concatenate_4 (Concatenate)    (None, 512, 512, 32  0           ['conv2d_transpose_4[0][0]',     \n",
            "                                )                                 'activation_1[0][0]']           \n",
            "                                                                                                  \n",
            " dropout_9 (Dropout)            (None, 512, 512, 32  0           ['concatenate_4[0][0]']          \n",
            "                                )                                                                 \n",
            "                                                                                                  \n",
            " conv2d_20 (Conv2D)             (None, 512, 512, 16  4624        ['dropout_9[0][0]']              \n",
            "                                )                                                                 \n",
            "                                                                                                  \n",
            " activation_20 (Activation)     (None, 512, 512, 16  0           ['conv2d_20[0][0]']              \n",
            "                                )                                                                 \n",
            "                                                                                                  \n",
            " conv2d_21 (Conv2D)             (None, 512, 512, 16  2320        ['activation_20[0][0]']          \n",
            "                                )                                                                 \n",
            "                                                                                                  \n",
            " activation_21 (Activation)     (None, 512, 512, 16  0           ['conv2d_21[0][0]']              \n",
            "                                )                                                                 \n",
            "                                                                                                  \n",
            " conv2d_22 (Conv2D)             (None, 512, 512, 3)  51          ['activation_21[0][0]']          \n",
            "                                                                                                  \n",
            "==================================================================================================\n",
            "Total params: 8,648,595\n",
            "Trainable params: 8,648,595\n",
            "Non-trainable params: 0\n",
            "__________________________________________________________________________________________________\n"
          ]
        }
      ]
    },
    {
      "cell_type": "markdown",
      "source": [
        "### Compiling the model:"
      ],
      "metadata": {
        "id": "uTBvMHPUar_A"
      }
    },
    {
      "cell_type": "code",
      "source": [
        "adam = Adam(learning_rate = 0.003)\n",
        "model.compile(optimizer = adam, loss = 'mse', metrics = ['accuracy'])"
      ],
      "metadata": {
        "id": "pVdXDa_-8X1Q"
      },
      "execution_count": 16,
      "outputs": []
    },
    {
      "cell_type": "markdown",
      "source": [
        "### Training the model:"
      ],
      "metadata": {
        "id": "122v9wqPaxuw"
      }
    },
    {
      "cell_type": "code",
      "source": [
        "history = model.fit(train_generator,\n",
        "                    validation_data = val_generator,\n",
        "                    use_multiprocessing = True,\n",
        "                    workers = 6, epochs=20)"
      ],
      "metadata": {
        "id": "Mxc3Kzu38ZuK",
        "colab": {
          "base_uri": "https://localhost:8080/"
        },
        "outputId": "1252a69c-0c6a-424b-e960-1d1fb5459467"
      },
      "execution_count": null,
      "outputs": [
        {
          "output_type": "stream",
          "name": "stdout",
          "text": [
            "Epoch 1/20\n"
          ]
        }
      ]
    },
    {
      "cell_type": "code",
      "source": [
        "model.save('DenoisingWithMoreSamples.h5')"
      ],
      "metadata": {
        "id": "5iKAgENbpGNz"
      },
      "execution_count": null,
      "outputs": []
    },
    {
      "cell_type": "code",
      "source": [
        "# import tensorflow.keras.layers as tkl\n",
        "# def conv_block(inputs = None, n_filters = 32, kernel_size = 3, batch_norm = True):\n",
        "    \n",
        "#     '''First layer'''\n",
        "    \n",
        "#     conv = tkl.Conv2D(filters = n_filters,\n",
        "#                       kernel_size = kernel_size,\n",
        "#                       padding = 'same',\n",
        "#                       kernel_initializer = 'he_normal')(inputs)\n",
        "    \n",
        "#     if batch_norm:\n",
        "#         conv = tkl.BatchNormalization()(conv)\n",
        "    \n",
        "#     conv = tkl.Activation('relu')(conv)\n",
        "    \n",
        "#     '''Second layer'''\n",
        "    \n",
        "#     conv = tkl.Conv2D(filters = n_filters,\n",
        "#                      kernel_size = kernel_size,\n",
        "#                      padding = 'same',\n",
        "#                      kernel_initializer = 'he_normal')(conv)\n",
        "    \n",
        "#     if batch_norm:\n",
        "#         conv = tkl.BatchNormalization()(conv)\n",
        "    \n",
        "#     conv = tkl.Activation('relu')(conv)\n",
        "        \n",
        "#     return conv\n",
        "\n",
        "\n",
        "# def conv_transpose_block(n_filters, kernel_size = 3):\n",
        "#     conv_transpose = tkl.Conv2DTranspose(n_filters, kernel_size = kernel_size, strides = (2,2), padding = 'same')\n",
        "    \n",
        "#     return conv_transpose\n",
        "    \n",
        "\n",
        "# def unet(n_filters = 32, dropout_prob = 0.1, batch_norm = True):\n",
        "#     input_size = (WIDTH, HEIGHT, n_channels)\n",
        "    \n",
        "#     input_img = tf.keras.Input(input_size, name = 'image' )\n",
        "    \n",
        "#     c1 = conv_block(input_img, n_filters / 2, kernel_size = 3)\n",
        "#     print('c1:', c1)\n",
        "#     p1 = tkl.MaxPooling2D((2,2))(c1)\n",
        "#     print('p1:', p1)\n",
        "#     p1 = tkl.Dropout(dropout_prob)(p1)\n",
        "    \n",
        "#     c2 = conv_block(p1, n_filters, kernel_size = 3)\n",
        "#     print('c2:', c2)\n",
        "#     p2 = tkl.MaxPooling2D((2,2))(c2)\n",
        "#     print('p2:', p2)\n",
        "#     p2 = tkl.Dropout(dropout_prob)(p2)\n",
        "    \n",
        "#     c3 = conv_block(p2, n_filters * 2, kernel_size = 3)\n",
        "#     print('c3:', c3)\n",
        "#     p3 = tkl.MaxPooling2D((2,2))(c3)\n",
        "#     print('p3:', p3)\n",
        "#     p3 = tkl.Dropout(dropout_prob)(p3)\n",
        "    \n",
        "#     c4 = conv_block(p3, n_filters * 4, kernel_size = 3)\n",
        "#     print('c4:', c4)\n",
        "#     p4 = tkl.MaxPooling2D((2,2))(c4)\n",
        "#     print('p4:', p4)\n",
        "#     p4 = tkl.Dropout(dropout_prob)(p4)\n",
        "    \n",
        "#     c5 = conv_block(p4, n_filters * 8 , kernel_size = 3)\n",
        "#     print('c5:', c5)\n",
        "#     p5 = tkl.MaxPooling2D((2,2))(c5)\n",
        "#     print('p5:', p5)\n",
        "#     p5 = tkl.Dropout(dropout_prob)(p5)\n",
        "\n",
        "#     c6 = conv_block(p5, n_filters * 16 , kernel_size = 3)\n",
        "#     print('c6:', c6)\n",
        "\n",
        "#     u6 = conv_transpose_block(n_filters * 8, kernel_size = 3)(c6)  #----> 32, 256\n",
        "#     print('u6:', u6)\n",
        "#     u6 = tkl.concatenate([u6, c5])     #----> 32, 256\n",
        "#     u6 = tkl.Dropout(dropout_prob)(u6)\n",
        "#     c7 = conv_block(u6, n_filters * 8, kernel_size = 3)   #----> 32, 256\n",
        "#     print('c7:', c7)\n",
        "    \n",
        "#     u7 = conv_transpose_block(n_filters * 4)(c7)   #----> 64, 128\n",
        "#     print('u7:', u7)\n",
        "#     u7 = tkl.concatenate([u7, c4])   #----> 64, 128\n",
        "#     u7 = tkl.Dropout(dropout_prob)(u7)\n",
        "#     c8 = conv_block(u7, n_filters * 4, kernel_size = 3)   #----> 64, 128\n",
        "#     print('c8:', c8)\n",
        "    \n",
        "#     u8 = conv_transpose_block(n_filters * 2, kernel_size = 3)(c8)   #----> 128, 64\n",
        "#     print('u8:', u8)\n",
        "#     u8 = tkl.concatenate([u8, c3])   #----> 128, 64\n",
        "#     u8 = tkl.Dropout(dropout_prob)(u8)\n",
        "#     c9 = conv_block(u8, n_filters * 2, kernel_size = 3)   #----> 128, 64\n",
        "#     print('c9:', c9)\n",
        "    \n",
        "#     u9 = conv_transpose_block(n_filters, kernel_size = 3)(c9)   #----> 256, 32\n",
        "#     print('u9:', u9)\n",
        "#     u9 = tkl.concatenate([u9, c2])   #----> 256, 32\n",
        "#     u9 = tkl.Dropout(dropout_prob)(u9)\n",
        "#     c10 = conv_block(u9, n_filters , kernel_size = 3)   #----> 256, 32\n",
        "#     print('c10:', c10)\n",
        "\n",
        "#     u10 = conv_transpose_block(16, kernel_size=(3,3))(c10) #512, 16\n",
        "#     print('u10:', u10)\n",
        "#     u10 = tkl.concatenate([u10, c1])\n",
        "#     print('u10:', u10)\n",
        "#     u10 = tkl.Dropout(dropout_prob)(u10)\n",
        "\n",
        "#     c11 = conv_block(u10, n_filters / 2, (3,3))\n",
        "#     print('c11:', c11)\n",
        "\n",
        "#     output = tkl.Conv2D(3, (1,1), padding='same', activation='sigmoid')(c11)\n",
        "#     print(f'output shape is: {output}')\n",
        "    \n",
        "    \n",
        "#     # output = tkl.Conv2D(3, (1,1), activation = 'sigmoid')(u10)\n",
        "\n",
        "#     return tf.keras.Model(inputs = [input_img], outputs = [output])\n",
        "\n",
        "\n",
        "    "
      ],
      "metadata": {
        "id": "93sDLSxRI6ac"
      },
      "execution_count": 35,
      "outputs": []
    },
    {
      "cell_type": "code",
      "source": [
        "# model = unet()"
      ],
      "metadata": {
        "id": "ZaUMKNm3JHF1"
      },
      "execution_count": 37,
      "outputs": []
    },
    {
      "cell_type": "code",
      "source": [
        ""
      ],
      "metadata": {
        "id": "hHQa7aRwJR6l"
      },
      "execution_count": 37,
      "outputs": []
    }
  ]
}
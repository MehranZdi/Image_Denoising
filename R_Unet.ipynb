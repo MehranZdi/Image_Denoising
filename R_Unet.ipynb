{
  "nbformat": 4,
  "nbformat_minor": 0,
  "metadata": {
    "colab": {
      "name": "R_Unet.ipynb",
      "provenance": []
    },
    "kernelspec": {
      "name": "python3",
      "display_name": "Python 3"
    },
    "language_info": {
      "name": "python"
    }
  },
  "cells": [
    {
      "cell_type": "code",
      "execution_count": null,
      "metadata": {
        "id": "dpQgcNYXaAIq"
      },
      "outputs": [],
      "source": [
        "import tensorflow as tf\n",
        "from tensorflow import keras\n",
        "import tensorflow.keras.layers as tkl\n",
        "import tensorflow as tf\n",
        "from keras.models import Model\n",
        "from keras.layers import Conv2D, MaxPooling2D, Dense, Input, Conv2D, UpSampling2D, BatchNormalization, Activation, Add\n",
        "from tensorflow.keras.optimizers import Adam\n",
        "from keras.callbacks import EarlyStopping\n",
        "import cv2\n",
        "from sklearn.model_selection import train_test_split\n",
        "from skimage.util import random_noise\n",
        "import matplotlib.pyplot as plt\n",
        "import numpy as np\n",
        "import pandas as pd\n",
        "import os\n",
        "import glob\n",
        "import random\n",
        "from itertools import chain"
      ]
    },
    {
      "cell_type": "code",
      "source": [
        "WIDTH = 256\n",
        "HEIGHT = 256\n",
        "n_channels = 3\n",
        "BATCH_SIZE = 32 "
      ],
      "metadata": {
        "id": "Az21UxTW8c8Y"
      },
      "execution_count": null,
      "outputs": []
    },
    {
      "cell_type": "code",
      "source": [
        "def identical_block(X, n_filters, kernel_size):\n",
        "  x_shortcut = X\n",
        "  \n",
        "  '''first part of identify block: '''\n",
        "\n",
        "  res_block = Conv2D(filters = n_filters, \n",
        "               kernel_size = kernel_size, padding = 'same')(X)\n",
        "  res_block = BatchNormalization()(res_block)\n",
        "  res_block = Activation('relu')(res_block)\n",
        "  \n",
        "  '''Second part of identify block: '''\n",
        "\n",
        "  res_block = Conv2D(filters = n_filters, \n",
        "               kernel_size = kernel_size, padding = 'same')(res_block)\n",
        "  res_block = BatchNormalization()(res_block)\n",
        "  \n",
        "  ''' skip part: '''\n",
        "\n",
        "  res_block = Add()([res_block, x_shortcut])\n",
        "  # res_block = Activation('relu')\n",
        "\n",
        "  return res_block\n",
        "\n",
        "\n",
        "# def conv_block(inputs, n_filters = 64, kernel_size = (3,3)):\n",
        "  \n",
        "#   conv = tkl.Conv2D(n_filters, kernel_size)(inputs)\n",
        "#   conv = tkl.BatchNormalization()(conv)\n",
        "#   conv = tkl.Activation('relu')(conv)\n",
        "#   conv = tkl.Conv2D(n_filters, kernel_size)(conv)\n",
        "#   conv = tkl.BatchNormalization()(conv)\n",
        "\n",
        "#   return conv\n",
        "\n",
        "\n",
        "def encoder(input, skip, n_filters, kernel_size):\n",
        "  input = input\n",
        "  \n",
        "  pix_shuffle = tf.nn.depth_to_space(input, 4, data_format='NHWC')\n",
        "  stacked = tf.stack([skip, pix_shuffle])\n",
        "\n",
        "  enc_block = BatchNormalization()(stacked)\n",
        "  enc_block = Conv2D(filters=n_filters, kernel_size=kernel_size)(enc_block)\n",
        "  enc_block = Activation('relu')(enc_block)\n",
        "  enc_block = Conv2D(filters=n_filters, kernel_size=kernel_size)(enc_block)\n",
        "  enc_block = Activation('relu')(enc_block)\n",
        "  # enc_block = Activation('relu')(enc_block)\n",
        "\n",
        "  return enc_block\n",
        "\n",
        "\n",
        "def r_unet():\n",
        "\n",
        "  ''' Contraction path (Encoder): '''\n",
        "\n",
        "  input_shape = (WIDTH, HEIGHT, n_channels)\n",
        "  input_img = tf.keras.Input(input_shape, name = 'image')\n",
        "\n",
        "  first_conv = Conv2D(filters=64, kernel_size=(7,7))(input_img)\n",
        "  first_conv = BatchNormalization()(first_conv)\n",
        "  first_conv = Activation('relu')(first_conv)\n",
        "  skip0 = first_conv\n",
        "  out0 = MaxPooling2D()(first_conv)\n",
        "\n",
        "  res_block = identical_block(out0, 64, (3,3))\n",
        "  res_block = identical_block(res_block, 64, (3,3))\n",
        "  res_block = identical_block(res_block, 64, (3,3))\n",
        "  res_block = identical_block(res_block, 128, (3,3))\n",
        "  skip1 = res_block\n",
        "  out1 = MaxPooling2D()(res_block)\n",
        "  \n",
        "  res_block = identical_block(out1, 128, (3,3))\n",
        "  res_block = identical_block(res_block, 128, (3,3))\n",
        "  res_block = identical_block(res_block, 128, (3,3))\n",
        "  res_block = identical_block(res_block, 256, (3,3))\n",
        "  skip2 = res_block\n",
        "  out2 = MaxPooling()(res_block)\n",
        "\n",
        "  res_block = identical_block(out2, 256, (3,3))\n",
        "  res_block = identical_block(res_block, 256, (3,3))\n",
        "  res_block = identical_block(res_block, 256, (3,3))\n",
        "  res_block = identical_block(res_block, 256, (3,3))\n",
        "  res_block = identical_block(res_block, 256, (3,3))\n",
        "  res_block = identical_block(res_block, 512, (3,3))\n",
        "  skip3 = res_block\n",
        "  out3 = MaxPooling()(res_block)\n",
        "\n",
        "  res_block = identical_block(out3, 512, (3,3))\n",
        "  res_block = identical_block(res_block, 512, (3,3))\n",
        "  conv = BatchNormalization()(res_block)\n",
        "  conv = Activation('relu')(conv)\n",
        "  skip4 = conv\n",
        "  \n",
        "  conv = Conv2D(1024, (3,3))(conv)\n",
        "  conv = Activation('relu')(conv)\n",
        "  conv = Conv2D(512, (3,3))(conv)\n",
        "  conv = Activation('relu')(conv)\n",
        "\n",
        "\n",
        "  ''' Expansion path (Decoder): '''\n",
        "\n",
        "  enc_block = encoder(conv, skip4, 512, (3,3))\n",
        "  enc_block = encoder(input, skip3, 256, (3,3))\n",
        "  enc_block = encoder(enc_block, skip2, 128, (3,3))\n",
        "  enc_block = encoder(enc_block, skip1, 128, (3,3))\n",
        "  \n",
        "  enc_block = tf.nn.depth_to_space(enc_block, 2, data_format='NHWC')\n",
        "  stacked = tf.stack([skip0, enc_block])\n",
        "\n",
        "  last_conv = Conv2D(64, (3,3))(stacked)\n",
        "  last_conv = Activation('relu')(last_conv)\n",
        "  last_conv = Conv2D(32, (3,3))(stacked)\n",
        "  last_conv = Activation('relu')(last_conv)\n",
        "  output = Conv2D(3, (1,1), activation='sigmoid')(last_conv)\n",
        "  \n",
        "  model = tf.keras.Model(inputs = [input_img], outputs = [output])\n",
        "\n",
        "  return model\n",
        "\n",
        "  "
      ],
      "metadata": {
        "id": "wrChY7VxaExJ"
      },
      "execution_count": null,
      "outputs": []
    },
    {
      "cell_type": "code",
      "source": [
        "model = r_unet()"
      ],
      "metadata": {
        "colab": {
          "base_uri": "https://localhost:8080/",
          "height": 323
        },
        "id": "JFTiPrSzaE3x",
        "outputId": "f20506cd-48e2-4d51-b98d-954c71a065ed"
      },
      "execution_count": null,
      "outputs": [
        {
          "output_type": "error",
          "ename": "ValueError",
          "evalue": "ignored",
          "traceback": [
            "\u001b[0;31m---------------------------------------------------------------------------\u001b[0m",
            "\u001b[0;31mValueError\u001b[0m                                Traceback (most recent call last)",
            "\u001b[0;32m<ipython-input-67-f0f3fe05f412>\u001b[0m in \u001b[0;36m<module>\u001b[0;34m()\u001b[0m\n\u001b[0;32m----> 1\u001b[0;31m \u001b[0mmodel\u001b[0m \u001b[0;34m=\u001b[0m \u001b[0mr_unet\u001b[0m\u001b[0;34m(\u001b[0m\u001b[0;34m)\u001b[0m\u001b[0;34m\u001b[0m\u001b[0;34m\u001b[0m\u001b[0m\n\u001b[0m",
            "\u001b[0;32m<ipython-input-66-61d02057b797>\u001b[0m in \u001b[0;36mr_unet\u001b[0;34m()\u001b[0m\n\u001b[1;32m     66\u001b[0m   \u001b[0mres_block\u001b[0m \u001b[0;34m=\u001b[0m \u001b[0midentical_block\u001b[0m\u001b[0;34m(\u001b[0m\u001b[0mres_block\u001b[0m\u001b[0;34m,\u001b[0m \u001b[0;36m64\u001b[0m\u001b[0;34m,\u001b[0m \u001b[0;34m(\u001b[0m\u001b[0;36m3\u001b[0m\u001b[0;34m,\u001b[0m\u001b[0;36m3\u001b[0m\u001b[0;34m)\u001b[0m\u001b[0;34m)\u001b[0m\u001b[0;34m\u001b[0m\u001b[0;34m\u001b[0m\u001b[0m\n\u001b[1;32m     67\u001b[0m   \u001b[0mres_block\u001b[0m \u001b[0;34m=\u001b[0m \u001b[0midentical_block\u001b[0m\u001b[0;34m(\u001b[0m\u001b[0mres_block\u001b[0m\u001b[0;34m,\u001b[0m \u001b[0;36m64\u001b[0m\u001b[0;34m,\u001b[0m \u001b[0;34m(\u001b[0m\u001b[0;36m3\u001b[0m\u001b[0;34m,\u001b[0m\u001b[0;36m3\u001b[0m\u001b[0;34m)\u001b[0m\u001b[0;34m)\u001b[0m\u001b[0;34m\u001b[0m\u001b[0;34m\u001b[0m\u001b[0m\n\u001b[0;32m---> 68\u001b[0;31m   \u001b[0mres_block\u001b[0m \u001b[0;34m=\u001b[0m \u001b[0midentical_block\u001b[0m\u001b[0;34m(\u001b[0m\u001b[0mres_block\u001b[0m\u001b[0;34m,\u001b[0m \u001b[0;36m128\u001b[0m\u001b[0;34m,\u001b[0m \u001b[0;34m(\u001b[0m\u001b[0;36m3\u001b[0m\u001b[0;34m,\u001b[0m\u001b[0;36m3\u001b[0m\u001b[0;34m)\u001b[0m\u001b[0;34m)\u001b[0m\u001b[0;34m\u001b[0m\u001b[0;34m\u001b[0m\u001b[0m\n\u001b[0m\u001b[1;32m     69\u001b[0m   \u001b[0mskip1\u001b[0m \u001b[0;34m=\u001b[0m \u001b[0mres_block\u001b[0m\u001b[0;34m\u001b[0m\u001b[0;34m\u001b[0m\u001b[0m\n\u001b[1;32m     70\u001b[0m   \u001b[0mout1\u001b[0m \u001b[0;34m=\u001b[0m \u001b[0mMaxPooling2D\u001b[0m\u001b[0;34m(\u001b[0m\u001b[0;34m)\u001b[0m\u001b[0;34m(\u001b[0m\u001b[0mres_block\u001b[0m\u001b[0;34m)\u001b[0m\u001b[0;34m\u001b[0m\u001b[0;34m\u001b[0m\u001b[0m\n",
            "\u001b[0;32m<ipython-input-66-61d02057b797>\u001b[0m in \u001b[0;36midentical_block\u001b[0;34m(X, n_filters, kernel_size)\u001b[0m\n\u001b[1;32m     17\u001b[0m   \u001b[0;34m''' skip part: '''\u001b[0m\u001b[0;34m\u001b[0m\u001b[0;34m\u001b[0m\u001b[0m\n\u001b[1;32m     18\u001b[0m \u001b[0;34m\u001b[0m\u001b[0m\n\u001b[0;32m---> 19\u001b[0;31m   \u001b[0mres_block\u001b[0m \u001b[0;34m=\u001b[0m \u001b[0mAdd\u001b[0m\u001b[0;34m(\u001b[0m\u001b[0;34m)\u001b[0m\u001b[0;34m(\u001b[0m\u001b[0;34m[\u001b[0m\u001b[0mres_block\u001b[0m\u001b[0;34m,\u001b[0m \u001b[0mx_shortcut\u001b[0m\u001b[0;34m]\u001b[0m\u001b[0;34m)\u001b[0m\u001b[0;34m\u001b[0m\u001b[0;34m\u001b[0m\u001b[0m\n\u001b[0m\u001b[1;32m     20\u001b[0m   \u001b[0;31m# res_block = Activation('relu')\u001b[0m\u001b[0;34m\u001b[0m\u001b[0;34m\u001b[0m\u001b[0;34m\u001b[0m\u001b[0m\n\u001b[1;32m     21\u001b[0m \u001b[0;34m\u001b[0m\u001b[0m\n",
            "\u001b[0;32m/usr/local/lib/python3.7/dist-packages/keras/utils/traceback_utils.py\u001b[0m in \u001b[0;36merror_handler\u001b[0;34m(*args, **kwargs)\u001b[0m\n\u001b[1;32m     65\u001b[0m     \u001b[0;32mexcept\u001b[0m \u001b[0mException\u001b[0m \u001b[0;32mas\u001b[0m \u001b[0me\u001b[0m\u001b[0;34m:\u001b[0m  \u001b[0;31m# pylint: disable=broad-except\u001b[0m\u001b[0;34m\u001b[0m\u001b[0;34m\u001b[0m\u001b[0m\n\u001b[1;32m     66\u001b[0m       \u001b[0mfiltered_tb\u001b[0m \u001b[0;34m=\u001b[0m \u001b[0m_process_traceback_frames\u001b[0m\u001b[0;34m(\u001b[0m\u001b[0me\u001b[0m\u001b[0;34m.\u001b[0m\u001b[0m__traceback__\u001b[0m\u001b[0;34m)\u001b[0m\u001b[0;34m\u001b[0m\u001b[0;34m\u001b[0m\u001b[0m\n\u001b[0;32m---> 67\u001b[0;31m       \u001b[0;32mraise\u001b[0m \u001b[0me\u001b[0m\u001b[0;34m.\u001b[0m\u001b[0mwith_traceback\u001b[0m\u001b[0;34m(\u001b[0m\u001b[0mfiltered_tb\u001b[0m\u001b[0;34m)\u001b[0m \u001b[0;32mfrom\u001b[0m \u001b[0;32mNone\u001b[0m\u001b[0;34m\u001b[0m\u001b[0;34m\u001b[0m\u001b[0m\n\u001b[0m\u001b[1;32m     68\u001b[0m     \u001b[0;32mfinally\u001b[0m\u001b[0;34m:\u001b[0m\u001b[0;34m\u001b[0m\u001b[0;34m\u001b[0m\u001b[0m\n\u001b[1;32m     69\u001b[0m       \u001b[0;32mdel\u001b[0m \u001b[0mfiltered_tb\u001b[0m\u001b[0;34m\u001b[0m\u001b[0;34m\u001b[0m\u001b[0m\n",
            "\u001b[0;32m/usr/local/lib/python3.7/dist-packages/keras/layers/merge.py\u001b[0m in \u001b[0;36m_compute_elemwise_op_output_shape\u001b[0;34m(self, shape1, shape2)\u001b[0m\n\u001b[1;32m     77\u001b[0m         \u001b[0;32mif\u001b[0m \u001b[0mi\u001b[0m \u001b[0;34m!=\u001b[0m \u001b[0mj\u001b[0m\u001b[0;34m:\u001b[0m\u001b[0;34m\u001b[0m\u001b[0;34m\u001b[0m\u001b[0m\n\u001b[1;32m     78\u001b[0m           raise ValueError(\n\u001b[0;32m---> 79\u001b[0;31m               \u001b[0;34m'Inputs have incompatible shapes. '\u001b[0m\u001b[0;34m\u001b[0m\u001b[0;34m\u001b[0m\u001b[0m\n\u001b[0m\u001b[1;32m     80\u001b[0m               f'Received shapes {shape1} and {shape2}')\n\u001b[1;32m     81\u001b[0m         \u001b[0moutput_shape\u001b[0m\u001b[0;34m.\u001b[0m\u001b[0mappend\u001b[0m\u001b[0;34m(\u001b[0m\u001b[0mi\u001b[0m\u001b[0;34m)\u001b[0m\u001b[0;34m\u001b[0m\u001b[0;34m\u001b[0m\u001b[0m\n",
            "\u001b[0;31mValueError\u001b[0m: Inputs have incompatible shapes. Received shapes (125, 125, 128) and (125, 125, 64)"
          ]
        }
      ]
    },
    {
      "cell_type": "code",
      "source": [
        ""
      ],
      "metadata": {
        "id": "tS9oQ9weaE8b"
      },
      "execution_count": null,
      "outputs": []
    },
    {
      "cell_type": "code",
      "source": [
        ""
      ],
      "metadata": {
        "id": "nTp9g4QSaE_2"
      },
      "execution_count": null,
      "outputs": []
    },
    {
      "cell_type": "code",
      "source": [
        ""
      ],
      "metadata": {
        "id": "plVTmrBYaFDo"
      },
      "execution_count": null,
      "outputs": []
    },
    {
      "cell_type": "code",
      "source": [
        ""
      ],
      "metadata": {
        "id": "b15axuxQaFGt"
      },
      "execution_count": null,
      "outputs": []
    }
  ]
}